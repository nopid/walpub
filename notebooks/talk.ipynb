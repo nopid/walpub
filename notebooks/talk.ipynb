{
 "cells": [
  {
   "cell_type": "markdown",
   "id": "f896fc21",
   "metadata": {
    "slideshow": {
     "slide_type": "slide"
    }
   },
   "source": [
    "# Walnut\n",
    "### une histoire d'écureuils $k$-reconnaissables 🐿\n",
    "\n",
    "#### Nicolas Ollinger, LIFO, U. Orléans\n",
    "<img style=\"width:15%; height: auto;\" src=\"img/lifo.png\">\n",
    "<img style=\"display:block; position:absolute; float:right; right:0px; bottom:50px; z-index:2;\" src=\"img/gobinder.png\">\n",
    "\n",
    "### Journées C_SyDiSi, 13 mars 2023"
   ]
  },
  {
   "cell_type": "markdown",
   "id": "478453cb",
   "metadata": {
    "slideshow": {
     "slide_type": "slide"
    }
   },
   "source": [
    "## tl;dr\n",
    "\n",
    "<b class=\"cool\">Walnut</b> est une calculatrice _open source_ pour les <b class=\"cool\">arithmétiques de Büchi</b> développée par J. Shallit _et al_ pour servir d'assistant de preuve en <b class=\"cool\">combinatoire des mots</b>.\n",
    "\n",
    "https://cs.uwaterloo.ca/~shallit/walnut.html\n",
    "\n",
    "Cet outil peut se révéler intéressant dans le contexte <b class=\"cool\">automates cellulaires</b> / <b class=\"cool\">pavages auto-similaires</b>.\n",
    "\n",
    "**Aujourd'hui :** un peu de contexte + démonstration/TP"
   ]
  },
  {
   "cell_type": "markdown",
   "id": "d78b7198",
   "metadata": {
    "slideshow": {
     "slide_type": "slide"
    }
   },
   "source": [
    "<img src=\"img/bru.png\" width=\"60%\" style=\"margin:auto\">"
   ]
  },
  {
   "cell_type": "markdown",
   "id": "95d71c3f",
   "metadata": {
    "slideshow": {
     "slide_type": "-"
    }
   },
   "source": [
    "# 1. Théorie"
   ]
  },
  {
   "cell_type": "markdown",
   "id": "27619356",
   "metadata": {
    "slideshow": {
     "slide_type": "subslide"
    }
   },
   "source": [
    "## Coloriages de l'espace\n",
    "\n",
    "**Définition**  Un <b class=\"cool\">coloriage</b> $\\mathcal{C}$ de $\\mathbb{N}^d$ est une application de $\\mathbb{N}^d$ dans un alphabet fini $\\Sigma$ (_les couleurs_)."
   ]
  },
  {
   "cell_type": "markdown",
   "id": "cc643da7",
   "metadata": {
    "slideshow": {
     "slide_type": "fragment"
    }
   },
   "source": [
    "**Remarque**  Un <b class=\"cool\">prédicat</b> $P(x_1,\\ldots, x_d)$ sur $\\mathbb{N}^d$ est un <b class=\"cool\">coloriage</b> à deux couleurs : **VRAI** et **FAUX**."
   ]
  },
  {
   "cell_type": "markdown",
   "id": "ec2e648f",
   "metadata": {
    "slideshow": {
     "slide_type": "fragment"
    }
   },
   "source": [
    "**Remarque**  Un <b class=\"cool\">sous-ensemble</b> de $\\mathbb{N}^d$ est donc lui aussi assimilable à un <b class=\"cool\">coloriage bicolore</b> et un coloriage sophistiqué $\\mathcal{C}$ est équivalent à une collection finie de sous-ensembles $\\mathcal{C}_a$, $\\mathcal{C}_b$, $\\ldots$ qui <b class=\"cool\">partitionnent</b> $\\mathbb{N}^d$."
   ]
  },
  {
   "cell_type": "markdown",
   "id": "7c4460eb",
   "metadata": {
    "slideshow": {
     "slide_type": "subslide"
    }
   },
   "source": [
    "## Codage des entiers en base $k$\n",
    "\n",
    "On peut coder les entiers <b class=\"cool\">en base $k$</b> sur l'alphabet $\\Sigma_k = \\{0,1,\\ldots,k-1\\}$ avec la convention <b class=\"cool\">grand-boutiste</b> ou petit-boutiste."
   ]
  },
  {
   "cell_type": "markdown",
   "id": "b4aec1eb",
   "metadata": {
    "slideshow": {
     "slide_type": "-"
    }
   },
   "source": [
    "Pour coder des <b class=\"cool\">tuples</b>, sous forme de mots, il suffit de considérer des mots sur l'alphabet $\\Sigma_k^d$ obtenus en empilant les codages des éléments du tuple après avoir ajouté des <b class=\"cool\">$0$ non significatifs</b> pour que tous les éléments à empiler aient même longueur.\n",
    "\n",
    "$$\n",
    "(54,100) \\mbox{ en base 2 : } \\begin{pmatrix}0\\\\1\\end{pmatrix}\\begin{pmatrix}1\\\\1\\end{pmatrix}\\begin{pmatrix}1\\\\0\\end{pmatrix}\\begin{pmatrix}0\\\\1\\end{pmatrix}\\begin{pmatrix}1\\\\1\\end{pmatrix}\\begin{pmatrix}1\\\\1\\end{pmatrix}\\begin{pmatrix}0\\\\0\\end{pmatrix}\n",
    "$$"
   ]
  },
  {
   "cell_type": "markdown",
   "id": "57689634",
   "metadata": {
    "slideshow": {
     "slide_type": "subslide"
    }
   },
   "source": [
    "## Coloriages en base $k$\n",
    "\n",
    "**Définition**  La <b class=\"cool\">$k$-représentation</b> d'un coloriage $\\mathcal{C} : \\mathbb{N}^d\\rightarrow\\Sigma$ associe à tout mot de $\\Sigma_k^d$ la couleur de la case de $\\mathcal{C}$ dont il code les coordonnées.\n",
    "\n",
    "$$\n",
    "R_2 :\n",
    "\\begin{pmatrix}0\\\\1\\end{pmatrix}\\begin{pmatrix}1\\\\1\\end{pmatrix}\\begin{pmatrix}1\\\\0\\end{pmatrix}\\begin{pmatrix}0\\\\1\\end{pmatrix}\\begin{pmatrix}1\\\\1\\end{pmatrix}\\begin{pmatrix}1\\\\1\\end{pmatrix}\\begin{pmatrix}0\\\\0\\end{pmatrix} \\mapsto \\mathcal{C}(54,110)\n",
    "$$"
   ]
  },
  {
   "cell_type": "markdown",
   "id": "4843a624",
   "metadata": {
    "slideshow": {
     "slide_type": "subslide"
    }
   },
   "source": [
    "## Automates finis à sortie\n",
    "\n",
    "**Définition**  Un <b class=\"cool\">automate fini à sortie</b> est un tuple $(Q,\\Sigma,\\Gamma,\\delta,q_0,\\pi)$ où\n",
    " - $Q$ est l'ensemble fini des états ;\n",
    " - $\\Sigma$ est l'alphabet fini d'entrée ;\n",
    " - $\\Gamma$ est l'alphabet fini de sortie ;\n",
    " - $\\delta : Q\\times\\Sigma \\rightarrow Q$ est la fonction de transition ;\n",
    " - $q_0\\in Q$ est l'état initial ;\n",
    " - $\\pi : Q \\rightarrow \\Gamma$ est la fonction de sortie."
   ]
  },
  {
   "cell_type": "markdown",
   "id": "748e9e5e",
   "metadata": {
    "slideshow": {
     "slide_type": "subslide"
    }
   },
   "source": [
    "Un tel automate $(Q,\\Sigma,\\Gamma,\\delta,q_0,\\pi)$ <b class=\"cool\">calcule</b> la fonction $f : \\Sigma^* \\rightarrow\\Gamma$ qui à tout mot $u$ associe $\\pi(\\delta^*(q_0,u))$ où\n",
    "$$\n",
    "\\begin{cases}\\delta^*(q,\\epsilon)&=&q\\\\\\delta^*(q,au) &=& \\delta^*(\\delta(q,a),u)\\end{cases}\n",
    "$$"
   ]
  },
  {
   "cell_type": "markdown",
   "id": "edb8a122",
   "metadata": {
    "slideshow": {
     "slide_type": "-"
    }
   },
   "source": [
    "**Définition**  Un <b class=\"cool\">coloriage</b> $\\mathcal{C}$ de $\\mathbb{N}^d$ est $k$-automatique s'il existe un automate fini à sortie qui calcule sa $k$-représentation."
   ]
  },
  {
   "cell_type": "markdown",
   "id": "ebf51c7e",
   "metadata": {
    "slideshow": {
     "slide_type": "subslide"
    }
   },
   "source": [
    "## Étudier leurs propriétés\n",
    "\n",
    "Comment vérifier les <b class=\"cool\">propriétés</b> des coloriages automatiques ?\n",
    "\n",
    "Comment indentifier les tuples qui pour lesquels une <b class=\"cool\">propriété</b> est vraie ?"
   ]
  },
  {
   "cell_type": "markdown",
   "id": "5f00d576",
   "metadata": {
    "slideshow": {
     "slide_type": "fragment"
    }
   },
   "source": [
    "Les travaux de <b class=\"cool\">Büchi</b> _et al_ dans les années 60 ont inité l'exploration des liens entre <b class=\"cool\">automates finis</b>, <b class=\"cool\">logiques</b>, <b class=\"cool\">arithmétique</b>, ..."
   ]
  },
  {
   "cell_type": "markdown",
   "id": "40db545a",
   "metadata": {
    "slideshow": {
     "slide_type": "subslide"
    }
   },
   "source": [
    "<img src=\"img/buchi.png\" width=\"100%\" style=\"margin:auto\">"
   ]
  },
  {
   "cell_type": "markdown",
   "id": "8537279a",
   "metadata": {
    "slideshow": {
     "slide_type": "subslide"
    }
   },
   "source": [
    "## Automates et logique\n",
    "\n",
    "L'état de l'art _logic and $p$-recognizable sets of integers_ de <b class=\"cool\">Bruyère</b> _et al_ synthétise de manière très lisible l’ensemble des résultats classiques sur la caractérisation des ensembles de nombres reconnaissables par automates en base $p$.\n",
    "\n",
    "http://ftp.gwdg.de/pub/EMIS/journals/BBMS/Bulletin/bul942/BRU.PDF"
   ]
  },
  {
   "cell_type": "markdown",
   "id": "691bab05",
   "metadata": {
    "slideshow": {
     "slide_type": "subslide"
    }
   },
   "source": [
    "<img src=\"img/bru.png\" width=\"100%\" style=\"margin:auto\">"
   ]
  },
  {
   "cell_type": "markdown",
   "id": "85cd6fbc",
   "metadata": {
    "slideshow": {
     "slide_type": "subslide"
    }
   },
   "source": [
    "## Théorème d'équivalence\n",
    "\n",
    "**Théorème 5.1** Soit $k\\geqslant 2$ un entier et $\\mathcal{C} : \\mathbb{N}^d \\rightarrow \\Sigma$ un coloriage de $\\mathbb{N}^d$. Les affirmations suivantes sont équivalentes :\n",
    " 1. $s$ est engendré par une <b class=\"cool\">$k$-substitution</b> ;\n",
    " 2. $s$ est <b class=\"cool\">$k$-automatique</b> ;\n",
    " 3. $s$ est <b class=\"cool\">$k$-définissable</b> ;\n",
    " 4. $s$ est <b class=\"cool\">$k$-algébrique</b> (uniquement si $k$ premier)."
   ]
  },
  {
   "cell_type": "markdown",
   "id": "5091bbcd",
   "metadata": {
    "slideshow": {
     "slide_type": "-"
    }
   },
   "source": [
    "À défaut d'être profonde, l'équivalence $(1) \\Leftrightarrow (2)$ est pratique : un automate à sortie en base $k$ n'est rien d'autre que le <b class=\"cool\">codage</b> d'un <b class=\"cool\">morphisme $k$-uniforme prolongeable</b>."
   ]
  },
  {
   "cell_type": "markdown",
   "id": "9d2ee403",
   "metadata": {
    "slideshow": {
     "slide_type": "subslide"
    }
   },
   "source": [
    "## Arithmétiques de Büchi\n",
    "\n",
    "L'<b class=\"cool\">arithmétique de Büchi</b> en base $k$ est la théorie du premier ordre des nombres entiers naturels munis de l'addition et de la fonction $V_k$ qui à $x\\neq 0$ associe la plus grande puissance de $k$ qui divise $x$."
   ]
  },
  {
   "cell_type": "markdown",
   "id": "c24b0b07",
   "metadata": {
    "slideshow": {
     "slide_type": "-"
    }
   },
   "source": [
    "Un coloriage $\\mathcal{C}$ est <b class=\"cool\">$k$-définissable</b> si pour toute lettre $a\\in\\Sigma$ il existe une formule du premier ordre $\\varphi_a$ de $\\left<\\mathbb{N},+,V_k\\right>$ telle que\n",
    "\n",
    "$$\n",
    "\\mathcal{C}^{-1}(a) = \\left\\{ z\\in\\mathbb{N}^d \\middle| \\left<\\mathbb{N},+,V_k\\right> \\models \\varphi_a(z) \\right\\}\n",
    "$$"
   ]
  },
  {
   "cell_type": "markdown",
   "id": "5fe67ea6",
   "metadata": {
    "slideshow": {
     "slide_type": "-"
    }
   },
   "source": [
    "L'équivalence $(2) \\Leftrightarrow (3)$ repose sur la transformation des automates en formules et réciproquement."
   ]
  },
  {
   "cell_type": "markdown",
   "id": "0461289c",
   "metadata": {
    "slideshow": {
     "slide_type": "subslide"
    }
   },
   "source": [
    "## Arithmétiques de Presburger, Peano, etc\n",
    "\n",
    "**Théorème de Cobham-Semenov** Si un coloriage est reconnaissable dans deux bases <b class=\"cool\">multiplicativement indépendantes</b> alors il est définissable dans $\\left<\\mathbb{N},+\\right>$, l'<b class=\"cool\">arithmétique de Presburger</b>."
   ]
  },
  {
   "cell_type": "markdown",
   "id": "a4a57f6d",
   "metadata": {
    "slideshow": {
     "slide_type": "fragment"
    }
   },
   "source": [
    "La notion d'automaticité se généralise à d'autres <b class=\"cool\">systèmes de numérations</b>. Le théorème liant reconnaissance et définissabilité se généralise dès lors qu'on dispose :\n",
    " - d'un <b class=\"cool\">langage régulier</b> $R$ codant les entiers ;\n",
    " - d'un <b class=\"cool\">automate réalisant l'addition</b> relationnelle $+_R(x,y,z)$ ;\n",
    " - d'un <b class=\"cool\">automate réalisant l'ordre</b> relationnel $<_R(x,y)$."
   ]
  },
  {
   "cell_type": "markdown",
   "id": "6f66fa34",
   "metadata": {
    "slideshow": {
     "slide_type": "slide"
    }
   },
   "source": [
    "<center style=\"font-size: 600%\">🐿</center>"
   ]
  },
  {
   "cell_type": "markdown",
   "id": "65fd6176",
   "metadata": {
    "slideshow": {
     "slide_type": "-"
    }
   },
   "source": [
    "# 2. TP Walnut"
   ]
  },
  {
   "cell_type": "markdown",
   "id": "3b5e39a5",
   "metadata": {
    "slideshow": {
     "slide_type": "subslide"
    }
   },
   "source": [
    "## Walnut\n",
    "\n",
    "Un outil pour manipuler :\n",
    " - des <b class=\"cool\">coloriages automatiques</b> (DFAO, morphismes) ;\n",
    " - des <b class=\"cool\">prédicats</b> (DFA, formules du premier ordre) ;\n",
    " - les combiner pour définir de nouveaux prédicats ;\n",
    " - vérifier la valeur de vérité d'un prédicat sans variable libre ;\n",
    " - calculer les valeurs qui satisfont un prédicat."
   ]
  },
  {
   "cell_type": "markdown",
   "id": "be829537",
   "metadata": {
    "slideshow": {
     "slide_type": "subslide"
    }
   },
   "source": [
    "## Thue-Morse est sans recouvrement\n"
   ]
  },
  {
   "cell_type": "markdown",
   "id": "626e292d",
   "metadata": {
    "slideshow": {
     "slide_type": "-"
    }
   },
   "source": [
    "\n",
    "$$\n",
    "\\begin{eqnarray*}\n",
    "t &:& a \\mapsto ab, \\qquad b \\mapsto ba\\\\\n",
    "\\mathcal{T} &=& abbabaabbaababbabaababbaabbabaab...\n",
    "\\end{eqnarray*}\n",
    "$$"
   ]
  },
  {
   "cell_type": "markdown",
   "id": "57aca703",
   "metadata": {
    "slideshow": {
     "slide_type": "fragment"
    }
   },
   "source": [
    "Un recouvrement est un facteur qui se chevauche :\n",
    "\n",
    "$$\\mathcal{T}[i:i+n] = \\mathcal{T}[j:j+n]\\quad\\mbox{avec}\\quad i<j<i+n$$"
   ]
  },
  {
   "cell_type": "code",
   "execution_count": 19,
   "id": "565c56c4",
   "metadata": {
    "scrolled": true,
    "slideshow": {
     "slide_type": "fragment"
    }
   },
   "outputs": [
    {
     "name": "stdout",
     "output_type": "stream",
     "text": [
      "\r\n"
     ]
    }
   ],
   "source": [
    "def factoreq \"Ak k<n => T[i+k]=T[j+k]\";"
   ]
  },
  {
   "cell_type": "code",
   "execution_count": 20,
   "id": "9bc48a34",
   "metadata": {
    "scrolled": true,
    "slideshow": {
     "slide_type": "fragment"
    }
   },
   "outputs": [
    {
     "name": "stdout",
     "output_type": "stream",
     "text": [
      "_____\r\n",
      "FALSE\r\n",
      "\r\n"
     ]
    }
   ],
   "source": [
    "eval recouvrement \"Ei,j,n i<j & j<i+n & $factoreq(i,j,n)\";c"
   ]
  },
  {
   "cell_type": "markdown",
   "id": "1b4e23e7",
   "metadata": {
    "slideshow": {
     "slide_type": "subslide"
    }
   },
   "source": [
    "## Thue-Morse et les carrés\n"
   ]
  },
  {
   "cell_type": "markdown",
   "id": "850ae985",
   "metadata": {
    "slideshow": {
     "slide_type": "-"
    }
   },
   "source": [
    "Un carré est un facteur de la forme $uu$."
   ]
  },
  {
   "cell_type": "code",
   "execution_count": 21,
   "id": "3e30af36",
   "metadata": {
    "scrolled": false,
    "slideshow": {
     "slide_type": "fragment"
    }
   },
   "outputs": [
    {
     "name": "stdout",
     "output_type": "stream",
     "text": [
      "n>0:2 states - 2ms\r\n",
      " (n>0&factoreq(i,(i+n),n))):5 states - 0ms\r\n",
      "Total computation time: 3ms.\r\n",
      "\r\n"
     ]
    }
   ],
   "source": [
    "def square \"n>0 & $factoreq(i,i+n,n)\":"
   ]
  },
  {
   "cell_type": "code",
   "execution_count": 22,
   "id": "cfd52e32",
   "metadata": {
    "slideshow": {
     "slide_type": "-"
    }
   },
   "outputs": [
    {
     "data": {
      "text/html": [
       "<?xml version=\"1.0\" encoding=\"UTF-8\" standalone=\"no\"?>\n",
       "<!DOCTYPE svg PUBLIC \"-//W3C//DTD SVG 1.1//EN\"\n",
       " \"http://www.w3.org/Graphics/SVG/1.1/DTD/svg11.dtd\">\n",
       "<!-- Generated by graphviz version 2.43.0 (0)\n",
       " -->\n",
       "<!-- Title: G Pages: 1 -->\n",
       "<svg width=\"609pt\" height=\"134pt\"\n",
       " viewBox=\"0.00 0.00 608.60 134.00\" xmlns=\"http://www.w3.org/2000/svg\" xmlns:xlink=\"http://www.w3.org/1999/xlink\">\n",
       "<g id=\"graph0\" class=\"graph\" transform=\"scale(1 1) rotate(0) translate(4 130)\">\n",
       "<title>G</title>\n",
       "<polygon fill=\"white\" stroke=\"transparent\" points=\"-4,4 -4,-130 604.6,-130 604.6,4 -4,4\"/>\n",
       "<text text-anchor=\"middle\" x=\"300.3\" y=\"-7.8\" font-family=\"Times,serif\" font-size=\"14.00\">(i,n): n&gt;0 &amp; $factoreq(i,i+n,n)</text>\n",
       "<!-- 0 -->\n",
       "<g id=\"node1\" class=\"node\">\n",
       "<title>0</title>\n",
       "<ellipse fill=\"none\" stroke=\"black\" cx=\"58.6\" cy=\"-75\" rx=\"18\" ry=\"18\"/>\n",
       "<text text-anchor=\"middle\" x=\"58.6\" y=\"-71.9\" font-family=\"Times,serif\" font-size=\"12.00\">0</text>\n",
       "</g>\n",
       "<!-- 0&#45;&gt;0 -->\n",
       "<g id=\"edge2\" class=\"edge\">\n",
       "<title>0&#45;&gt;0</title>\n",
       "<path fill=\"none\" stroke=\"black\" d=\"M52.22,-92.04C50.92,-101.86 53.05,-111 58.6,-111 62.07,-111 64.2,-107.43 65,-102.35\"/>\n",
       "<polygon fill=\"black\" stroke=\"black\" points=\"68.5,-102.03 64.98,-92.04 61.5,-102.04 68.5,-102.03\"/>\n",
       "<text text-anchor=\"middle\" x=\"58.6\" y=\"-114.8\" font-family=\"Times,serif\" font-size=\"14.00\">[0,0]</text>\n",
       "</g>\n",
       "<!-- 1 -->\n",
       "<g id=\"node2\" class=\"node\">\n",
       "<title>1</title>\n",
       "<ellipse fill=\"none\" stroke=\"black\" cx=\"164.6\" cy=\"-75\" rx=\"18\" ry=\"18\"/>\n",
       "<text text-anchor=\"middle\" x=\"164.6\" y=\"-71.9\" font-family=\"Times,serif\" font-size=\"12.00\">1</text>\n",
       "</g>\n",
       "<!-- 0&#45;&gt;1 -->\n",
       "<g id=\"edge3\" class=\"edge\">\n",
       "<title>0&#45;&gt;1</title>\n",
       "<path fill=\"none\" stroke=\"black\" d=\"M76.77,-75C92.96,-75 117.47,-75 136.33,-75\"/>\n",
       "<polygon fill=\"black\" stroke=\"black\" points=\"136.4,-78.5 146.4,-75 136.4,-71.5 136.4,-78.5\"/>\n",
       "<text text-anchor=\"middle\" x=\"111.6\" y=\"-78.8\" font-family=\"Times,serif\" font-size=\"14.00\">[1,0]</text>\n",
       "</g>\n",
       "<!-- 2 -->\n",
       "<g id=\"node3\" class=\"node\">\n",
       "<title>2</title>\n",
       "<ellipse fill=\"none\" stroke=\"black\" cx=\"578.6\" cy=\"-45\" rx=\"18\" ry=\"18\"/>\n",
       "<ellipse fill=\"none\" stroke=\"black\" cx=\"578.6\" cy=\"-45\" rx=\"22\" ry=\"22\"/>\n",
       "<text text-anchor=\"middle\" x=\"578.6\" y=\"-41.9\" font-family=\"Times,serif\" font-size=\"12.00\">2</text>\n",
       "</g>\n",
       "<!-- 0&#45;&gt;2 -->\n",
       "<g id=\"edge4\" class=\"edge\">\n",
       "<title>0&#45;&gt;2</title>\n",
       "<path fill=\"none\" stroke=\"black\" d=\"M73.54,-64.33C92.73,-50.74 128.85,-29 163.6,-29 163.6,-29 163.6,-29 423.6,-29 466.4,-29 515.53,-35.19 546.57,-39.87\"/>\n",
       "<polygon fill=\"black\" stroke=\"black\" points=\"546.33,-43.37 556.75,-41.45 547.4,-36.46 546.33,-43.37\"/>\n",
       "<text text-anchor=\"middle\" x=\"312.6\" y=\"-32.8\" font-family=\"Times,serif\" font-size=\"14.00\">[1,1]</text>\n",
       "</g>\n",
       "<!-- 3 -->\n",
       "<g id=\"node4\" class=\"node\">\n",
       "<title>3</title>\n",
       "<ellipse fill=\"none\" stroke=\"black\" cx=\"312.6\" cy=\"-90\" rx=\"18\" ry=\"18\"/>\n",
       "<text text-anchor=\"middle\" x=\"312.6\" y=\"-86.9\" font-family=\"Times,serif\" font-size=\"12.00\">3</text>\n",
       "</g>\n",
       "<!-- 1&#45;&gt;3 -->\n",
       "<g id=\"edge5\" class=\"edge\">\n",
       "<title>1&#45;&gt;3</title>\n",
       "<path fill=\"none\" stroke=\"black\" d=\"M182.63,-76.75C207.69,-79.32 254.73,-84.16 284.54,-87.22\"/>\n",
       "<polygon fill=\"black\" stroke=\"black\" points=\"284.37,-90.72 294.67,-88.26 285.08,-83.76 284.37,-90.72\"/>\n",
       "<text text-anchor=\"middle\" x=\"238.6\" y=\"-90.8\" font-family=\"Times,serif\" font-size=\"14.00\">[0,0], [1,0]</text>\n",
       "</g>\n",
       "<!-- 2&#45;&gt;2 -->\n",
       "<g id=\"edge6\" class=\"edge\">\n",
       "<title>2&#45;&gt;2</title>\n",
       "<path fill=\"none\" stroke=\"black\" d=\"M565.13,-62.68C561.62,-74.06 566.11,-85 578.6,-85 587.19,-85 591.99,-79.83 593.02,-72.9\"/>\n",
       "<polygon fill=\"black\" stroke=\"black\" points=\"596.48,-72.32 592.07,-62.68 589.51,-72.97 596.48,-72.32\"/>\n",
       "<text text-anchor=\"middle\" x=\"578.6\" y=\"-88.8\" font-family=\"Times,serif\" font-size=\"14.00\">[0,0]</text>\n",
       "</g>\n",
       "<!-- 3&#45;&gt;0 -->\n",
       "<g id=\"edge7\" class=\"edge\">\n",
       "<title>3&#45;&gt;0</title>\n",
       "<path fill=\"none\" stroke=\"black\" d=\"M296.42,-98.66C290.44,-101.6 283.39,-104.52 276.6,-106 220.12,-118.3 204.03,-108.53 146.6,-102 123.37,-99.36 116.76,-101.47 94.6,-94 90.73,-92.7 86.78,-90.98 83,-89.12\"/>\n",
       "<polygon fill=\"black\" stroke=\"black\" points=\"84.54,-85.97 74.07,-84.32 81.22,-92.14 84.54,-85.97\"/>\n",
       "<text text-anchor=\"middle\" x=\"164.6\" y=\"-110.8\" font-family=\"Times,serif\" font-size=\"14.00\">[0,0]</text>\n",
       "</g>\n",
       "<!-- 3&#45;&gt;1 -->\n",
       "<g id=\"edge8\" class=\"edge\">\n",
       "<title>3&#45;&gt;1</title>\n",
       "<path fill=\"none\" stroke=\"black\" d=\"M300.4,-76.73C294.14,-70.36 285.76,-63.39 276.6,-60 244.92,-48.28 233.69,-53.21 200.6,-60 197.13,-60.71 193.57,-61.79 190.13,-63.04\"/>\n",
       "<polygon fill=\"black\" stroke=\"black\" points=\"188.74,-59.82 180.84,-66.88 191.42,-66.29 188.74,-59.82\"/>\n",
       "<text text-anchor=\"middle\" x=\"238.6\" y=\"-63.8\" font-family=\"Times,serif\" font-size=\"14.00\">[1,0]</text>\n",
       "</g>\n",
       "<!-- 4 -->\n",
       "<g id=\"node5\" class=\"node\">\n",
       "<title>4</title>\n",
       "<ellipse fill=\"none\" stroke=\"black\" cx=\"422.6\" cy=\"-79\" rx=\"18\" ry=\"18\"/>\n",
       "<ellipse fill=\"none\" stroke=\"black\" cx=\"422.6\" cy=\"-79\" rx=\"22\" ry=\"22\"/>\n",
       "<text text-anchor=\"middle\" x=\"422.6\" y=\"-75.9\" font-family=\"Times,serif\" font-size=\"12.00\">4</text>\n",
       "</g>\n",
       "<!-- 3&#45;&gt;4 -->\n",
       "<g id=\"edge9\" class=\"edge\">\n",
       "<title>3&#45;&gt;4</title>\n",
       "<path fill=\"none\" stroke=\"black\" d=\"M330.95,-88.23C346.95,-86.6 371.08,-84.15 390.42,-82.18\"/>\n",
       "<polygon fill=\"black\" stroke=\"black\" points=\"390.99,-85.64 400.59,-81.14 390.28,-78.67 390.99,-85.64\"/>\n",
       "<text text-anchor=\"middle\" x=\"365.6\" y=\"-90.8\" font-family=\"Times,serif\" font-size=\"14.00\">[1,1]</text>\n",
       "</g>\n",
       "<!-- 4&#45;&gt;2 -->\n",
       "<g id=\"edge10\" class=\"edge\">\n",
       "<title>4&#45;&gt;2</title>\n",
       "<path fill=\"none\" stroke=\"black\" d=\"M444.37,-74.41C470.66,-68.61 516.19,-58.56 546.6,-51.84\"/>\n",
       "<polygon fill=\"black\" stroke=\"black\" points=\"547.66,-55.19 556.67,-49.62 546.15,-48.36 547.66,-55.19\"/>\n",
       "<text text-anchor=\"middle\" x=\"500.6\" y=\"-73.8\" font-family=\"Times,serif\" font-size=\"14.00\">[0,0], [1,1]</text>\n",
       "</g>\n",
       "<!-- qi -->\n",
       "<g id=\"node6\" class=\"node\">\n",
       "<title>qi</title>\n",
       "<ellipse fill=\"black\" stroke=\"black\" cx=\"1.8\" cy=\"-75\" rx=\"1.8\" ry=\"1.8\"/>\n",
       "</g>\n",
       "<!-- qi&#45;&gt;0 -->\n",
       "<g id=\"edge1\" class=\"edge\">\n",
       "<title>qi&#45;&gt;0</title>\n",
       "<path fill=\"none\" stroke=\"black\" d=\"M3.75,-75C7.11,-75 18.87,-75 30.55,-75\"/>\n",
       "<polygon fill=\"black\" stroke=\"black\" points=\"30.58,-78.5 40.58,-75 30.58,-71.5 30.58,-78.5\"/>\n",
       "</g>\n",
       "<!-- \\n -->\n",
       "<g id=\"node7\" class=\"node\">\n",
       "<title>\\n</title>\n",
       "<ellipse fill=\"black\" stroke=\"black\" cx=\"1.8\" cy=\"-97\" rx=\"1.8\" ry=\"1.8\"/>\n",
       "</g>\n",
       "</g>\n",
       "</svg>\n"
      ],
      "text/plain": [
       "<IPython.core.display.HTML object>"
      ]
     },
     "metadata": {},
     "output_type": "display_data"
    }
   ],
   "source": [
    "%showme square"
   ]
  },
  {
   "cell_type": "markdown",
   "id": "53a69cfe",
   "metadata": {
    "slideshow": {
     "slide_type": "subslide"
    }
   },
   "source": [
    "## Thue-Morse est synchronisant(?)\n"
   ]
  },
  {
   "cell_type": "markdown",
   "id": "c5c26139",
   "metadata": {
    "slideshow": {
     "slide_type": "-"
    }
   },
   "source": [
    "Il existe une taille de facteur qui suffit à connaître sa parité dans Thue-Morse."
   ]
  },
  {
   "cell_type": "code",
   "execution_count": 33,
   "id": "0e2153c0",
   "metadata": {
    "scrolled": true,
    "slideshow": {
     "slide_type": "fragment"
    }
   },
   "outputs": [
    {
     "name": "stdout",
     "output_type": "stream",
     "text": [
      "\n",
      "\n"
     ]
    }
   ],
   "source": [
    "def samepar \"Ea,b,c i=2*a+b & j=2*c+b\";\n",
    "def sync \"n>0 & Ai,j $factoreq(i,j,n) => $samepar(i,j)\";"
   ]
  },
  {
   "cell_type": "code",
   "execution_count": 35,
   "id": "4f3733d3",
   "metadata": {
    "scrolled": true,
    "slideshow": {
     "slide_type": "fragment"
    }
   },
   "outputs": [
    {
     "name": "stdout",
     "output_type": "stream",
     "text": [
      "\r\n"
     ]
    }
   ],
   "source": [
    "eval smallest \"$sync(n) & ~ $sync(n-1)\";"
   ]
  },
  {
   "cell_type": "code",
   "execution_count": 36,
   "id": "0cf2e297",
   "metadata": {
    "slideshow": {
     "slide_type": "-"
    }
   },
   "outputs": [
    {
     "data": {
      "text/html": [
       "<?xml version=\"1.0\" encoding=\"UTF-8\" standalone=\"no\"?>\n",
       "<!DOCTYPE svg PUBLIC \"-//W3C//DTD SVG 1.1//EN\"\n",
       " \"http://www.w3.org/Graphics/SVG/1.1/DTD/svg11.dtd\">\n",
       "<!-- Generated by graphviz version 2.43.0 (0)\n",
       " -->\n",
       "<!-- Title: G Pages: 1 -->\n",
       "<svg width=\"339pt\" height=\"104pt\"\n",
       " viewBox=\"0.00 0.00 338.60 104.00\" xmlns=\"http://www.w3.org/2000/svg\" xmlns:xlink=\"http://www.w3.org/1999/xlink\">\n",
       "<g id=\"graph0\" class=\"graph\" transform=\"scale(1 1) rotate(0) translate(4 100)\">\n",
       "<title>G</title>\n",
       "<polygon fill=\"white\" stroke=\"transparent\" points=\"-4,4 -4,-100 334.6,-100 334.6,4 -4,4\"/>\n",
       "<text text-anchor=\"middle\" x=\"165.3\" y=\"-7.8\" font-family=\"Times,serif\" font-size=\"14.00\">(n): $sync(n) &amp; ~ $sync(n&#45;1)</text>\n",
       "<!-- 0 -->\n",
       "<g id=\"node1\" class=\"node\">\n",
       "<title>0</title>\n",
       "<ellipse fill=\"none\" stroke=\"black\" cx=\"58.6\" cy=\"-45\" rx=\"18\" ry=\"18\"/>\n",
       "<text text-anchor=\"middle\" x=\"58.6\" y=\"-41.9\" font-family=\"Times,serif\" font-size=\"12.00\">0</text>\n",
       "</g>\n",
       "<!-- 0&#45;&gt;0 -->\n",
       "<g id=\"edge2\" class=\"edge\">\n",
       "<title>0&#45;&gt;0</title>\n",
       "<path fill=\"none\" stroke=\"black\" d=\"M52.22,-62.04C50.92,-71.86 53.05,-81 58.6,-81 62.07,-81 64.2,-77.43 65,-72.35\"/>\n",
       "<polygon fill=\"black\" stroke=\"black\" points=\"68.5,-72.03 64.98,-62.04 61.5,-72.04 68.5,-72.03\"/>\n",
       "<text text-anchor=\"middle\" x=\"58.6\" y=\"-84.8\" font-family=\"Times,serif\" font-size=\"14.00\">0</text>\n",
       "</g>\n",
       "<!-- 1 -->\n",
       "<g id=\"node2\" class=\"node\">\n",
       "<title>1</title>\n",
       "<ellipse fill=\"none\" stroke=\"black\" cx=\"140.6\" cy=\"-45\" rx=\"18\" ry=\"18\"/>\n",
       "<text text-anchor=\"middle\" x=\"140.6\" y=\"-41.9\" font-family=\"Times,serif\" font-size=\"12.00\">1</text>\n",
       "</g>\n",
       "<!-- 0&#45;&gt;1 -->\n",
       "<g id=\"edge3\" class=\"edge\">\n",
       "<title>0&#45;&gt;1</title>\n",
       "<path fill=\"none\" stroke=\"black\" d=\"M76.96,-45C87.3,-45 100.66,-45 112.38,-45\"/>\n",
       "<polygon fill=\"black\" stroke=\"black\" points=\"112.55,-48.5 122.55,-45 112.55,-41.5 112.55,-48.5\"/>\n",
       "<text text-anchor=\"middle\" x=\"99.6\" y=\"-48.8\" font-family=\"Times,serif\" font-size=\"14.00\">1</text>\n",
       "</g>\n",
       "<!-- 2 -->\n",
       "<g id=\"node3\" class=\"node\">\n",
       "<title>2</title>\n",
       "<ellipse fill=\"none\" stroke=\"black\" cx=\"222.6\" cy=\"-45\" rx=\"18\" ry=\"18\"/>\n",
       "<text text-anchor=\"middle\" x=\"222.6\" y=\"-41.9\" font-family=\"Times,serif\" font-size=\"12.00\">2</text>\n",
       "</g>\n",
       "<!-- 1&#45;&gt;2 -->\n",
       "<g id=\"edge4\" class=\"edge\">\n",
       "<title>1&#45;&gt;2</title>\n",
       "<path fill=\"none\" stroke=\"black\" d=\"M158.96,-45C169.3,-45 182.66,-45 194.38,-45\"/>\n",
       "<polygon fill=\"black\" stroke=\"black\" points=\"194.55,-48.5 204.55,-45 194.55,-41.5 194.55,-48.5\"/>\n",
       "<text text-anchor=\"middle\" x=\"181.6\" y=\"-48.8\" font-family=\"Times,serif\" font-size=\"14.00\">0</text>\n",
       "</g>\n",
       "<!-- 3 -->\n",
       "<g id=\"node4\" class=\"node\">\n",
       "<title>3</title>\n",
       "<ellipse fill=\"none\" stroke=\"black\" cx=\"308.6\" cy=\"-45\" rx=\"18\" ry=\"18\"/>\n",
       "<ellipse fill=\"none\" stroke=\"black\" cx=\"308.6\" cy=\"-45\" rx=\"22\" ry=\"22\"/>\n",
       "<text text-anchor=\"middle\" x=\"308.6\" y=\"-41.9\" font-family=\"Times,serif\" font-size=\"12.00\">3</text>\n",
       "</g>\n",
       "<!-- 2&#45;&gt;3 -->\n",
       "<g id=\"edge5\" class=\"edge\">\n",
       "<title>2&#45;&gt;3</title>\n",
       "<path fill=\"none\" stroke=\"black\" d=\"M241,-45C251.19,-45 264.35,-45 276.28,-45\"/>\n",
       "<polygon fill=\"black\" stroke=\"black\" points=\"276.34,-48.5 286.34,-45 276.34,-41.5 276.34,-48.5\"/>\n",
       "<text text-anchor=\"middle\" x=\"263.6\" y=\"-48.8\" font-family=\"Times,serif\" font-size=\"14.00\">0</text>\n",
       "</g>\n",
       "<!-- qi -->\n",
       "<g id=\"node5\" class=\"node\">\n",
       "<title>qi</title>\n",
       "<ellipse fill=\"black\" stroke=\"black\" cx=\"1.8\" cy=\"-45\" rx=\"1.8\" ry=\"1.8\"/>\n",
       "</g>\n",
       "<!-- qi&#45;&gt;0 -->\n",
       "<g id=\"edge1\" class=\"edge\">\n",
       "<title>qi&#45;&gt;0</title>\n",
       "<path fill=\"none\" stroke=\"black\" d=\"M3.75,-45C7.11,-45 18.87,-45 30.55,-45\"/>\n",
       "<polygon fill=\"black\" stroke=\"black\" points=\"30.58,-48.5 40.58,-45 30.58,-41.5 30.58,-48.5\"/>\n",
       "</g>\n",
       "<!-- \\n -->\n",
       "<g id=\"node6\" class=\"node\">\n",
       "<title>\\n</title>\n",
       "<ellipse fill=\"black\" stroke=\"black\" cx=\"1.8\" cy=\"-67\" rx=\"1.8\" ry=\"1.8\"/>\n",
       "</g>\n",
       "</g>\n",
       "</svg>\n"
      ],
      "text/plain": [
       "<IPython.core.display.HTML object>"
      ]
     },
     "metadata": {},
     "output_type": "display_data"
    }
   ],
   "source": [
    "%showme smallest"
   ]
  },
  {
   "cell_type": "markdown",
   "id": "2fa8f105",
   "metadata": {
    "slideshow": {
     "slide_type": "slide"
    }
   },
   "source": [
    "<img src=\"img/alarob.png\" width=\"50%\" style=\"margin:auto\">"
   ]
  },
  {
   "cell_type": "markdown",
   "id": "ba63bf8a",
   "metadata": {
    "slideshow": {
     "slide_type": "-"
    }
   },
   "source": [
    "# 3. Motivation"
   ]
  },
  {
   "cell_type": "markdown",
   "id": "84792240",
   "metadata": {
    "slideshow": {
     "slide_type": "subslide"
    }
   },
   "source": [
    "<img src=\"img/cie17.png\" width=\"100%\" style=\"margin:auto\">"
   ]
  },
  {
   "cell_type": "markdown",
   "id": "d56df411",
   "metadata": {
    "slideshow": {
     "slide_type": "subslide"
    }
   },
   "source": [
    "<img src=\"img/2rec.png\" width=\"100%\" style=\"margin:auto\">"
   ]
  },
  {
   "cell_type": "markdown",
   "id": "485cdc55",
   "metadata": {
    "slideshow": {
     "slide_type": "subslide"
    }
   },
   "source": [
    "<img src=\"img/compwin.png\" width=\"100%\" style=\"margin:auto\">"
   ]
  },
  {
   "cell_type": "markdown",
   "id": "a39ac6ca",
   "metadata": {
    "slideshow": {
     "slide_type": "subslide"
    }
   },
   "source": [
    "<img src=\"img/chair.png\" width=\"100%\" style=\"margin:auto\">"
   ]
  },
  {
   "cell_type": "markdown",
   "id": "59dcd404",
   "metadata": {
    "slideshow": {
     "slide_type": "subslide"
    }
   },
   "source": [
    "<img src=\"img/labbe.png\" width=\"100%\" style=\"margin:auto\">"
   ]
  },
  {
   "cell_type": "markdown",
   "id": "989f2e9f",
   "metadata": {
    "slideshow": {
     "slide_type": "subslide"
    }
   },
   "source": [
    "## Ça pave"
   ]
  },
  {
   "cell_type": "code",
   "execution_count": 39,
   "id": "e2f9d42b",
   "metadata": {
    "slideshow": {
     "slide_type": "-"
    }
   },
   "outputs": [
    {
     "name": "stdout",
     "output_type": "stream",
     "text": [
      "LabbeE[i][j]=LabbeW[(i+1)][j]:4 states - 14ms\r\n",
      " LabbeN[i][j]=LabbeS[i][(j+1)]:4 states - 11ms\r\n",
      "  (LabbeE[i][j]=LabbeW[(i+1)][j]&LabbeN[i][j]=LabbeS[i][(j+1)]):4 states - 0ms\r\n",
      "   (A i , j (LabbeE[i][j]=LabbeW[(i+1)][j]&LabbeN[i][j]=LabbeS[i][(j+1)])):1 states - 2ms\r\n",
      "Total computation time: 30ms.\r\n",
      "____\r\n",
      "TRUE\r\n",
      "\r\n"
     ]
    }
   ],
   "source": [
    "eval ValidTiling \"?msd_fibsq Ai,j LabbeE[i][j]=LabbeW[i+1][j] & LabbeN[i][j]=LabbeS[i][j+1]\":"
   ]
  },
  {
   "cell_type": "markdown",
   "id": "7ed755e3",
   "metadata": {
    "slideshow": {
     "slide_type": "subslide"
    }
   },
   "source": [
    "## Le coloriage est apériodique"
   ]
  },
  {
   "cell_type": "code",
   "execution_count": 38,
   "id": "7f7971a1",
   "metadata": {
    "scrolled": false,
    "slideshow": {
     "slide_type": "-"
    }
   },
   "outputs": [
    {
     "name": "stdout",
     "output_type": "stream",
     "text": [
      "computed ~:1 states - 1ms\n",
      "(di+dj)>0:5 states - 7ms\n",
      " Labbe[i][j]=Labbe[(i+di)][(j+dj)]:1825 states - 2583ms\n",
      "  ~Labbe[i][j]=Labbe[(i+di)][(j+dj)]:1825 states - 495ms\n",
      "   (E i , j ~Labbe[i][j]=Labbe[(i+di)][(j+dj)]):5 states - 1316ms\n",
      "    ((di+dj)>0=>(E i , j ~Labbe[i][j]=Labbe[(i+di)][(j+dj)])):4 states - 0ms\n",
      "     (A di , dj ((di+dj)>0=>(E i , j ~Labbe[i][j]=Labbe[(i+di)][(j+dj)]))):1 states - 1ms\n",
      "Total computation time: 4485ms.\n",
      "____\n",
      "TRUE\n",
      "\n"
     ]
    }
   ],
   "source": [
    "eval Aperiodic \"?msd_fibsq Adi,dj di+dj>0 => Ei,j ~Labbe[i][j]=Labbe[i+di][j+dj]\":"
   ]
  },
  {
   "cell_type": "markdown",
   "id": "4bdc472f",
   "metadata": {
    "slideshow": {
     "slide_type": "subslide"
    }
   },
   "source": [
    "## Explosion combinatoire"
   ]
  },
  {
   "cell_type": "code",
   "execution_count": null,
   "id": "34822647",
   "metadata": {
    "scrolled": false,
    "slideshow": {
     "slide_type": "-"
    }
   },
   "outputs": [],
   "source": [
    "eval factoreq \"?msd_fibsq Adi,dj (di<n & dj<n) => Labbe[i+di][j+dj]=Labbe[u+di][v+dj]\"::"
   ]
  },
  {
   "cell_type": "markdown",
   "id": "358ab11d",
   "metadata": {
    "slideshow": {
     "slide_type": "slide"
    }
   },
   "source": [
    "## Un peu de lecture pour la route"
   ]
  },
  {
   "cell_type": "markdown",
   "id": "884e0042",
   "metadata": {
    "slideshow": {
     "slide_type": "-"
    }
   },
   "source": [
    "<img src=\"img/cover.jpg\" width=\"30%\" style=\"margin:auto; display:inline\"> <img src=\"img/auto.png\" width=\"27%\" style=\"margin:auto;display: inline\">"
   ]
  }
 ],
 "metadata": {
  "celltoolbar": "Diaporama",
  "kernelspec": {
   "display_name": "Walnut",
   "language": "",
   "name": "data"
  },
  "language_info": {
   "file_extension": ".walnut",
   "language": "walnut",
   "mimetype": "text/x-walnut",
   "name": "walnutkernel"
  },
  "rise": {
   "autolaunch": true,
   "chalkboard": {
    "readOnly": false
   },
   "enable_chalkboard": true,
   "reveal_shortcuts": {
    "chalkboard": {
     "colorNext": "s",
     "colorPrev": "q",
     "toggleChalkboard": "a",
     "toggleNotesCanvas": "z"
    }
   },
   "scroll": true,
   "theme": "white"
  }
 },
 "nbformat": 4,
 "nbformat_minor": 5
}
