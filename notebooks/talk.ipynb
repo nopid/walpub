{
 "cells": [
  {
   "cell_type": "markdown",
   "id": "f896fc21",
   "metadata": {
    "slideshow": {
     "slide_type": "slide"
    }
   },
   "source": [
    "# Walnut\n",
    "### une histoire d'écureuils $k$-reconnaissables\n",
    "\n",
    "#### Nicolas Ollinger, LIFO, U. Orléans\n",
    "<img style=\"width:15%; height: auto;\" src=\"img/lifo.png\">\n",
    "<img style=\"display:block; position:absolute; float:right; right:0px; bottom:50px; z-index:2;\" src=\"img/gobinder.png\">\n",
    "\n",
    "### Journées C_SyDiSi, 13 mars 2023"
   ]
  },
  {
   "cell_type": "code",
   "execution_count": 48,
   "id": "e2f9d42b",
   "metadata": {},
   "outputs": [
    {
     "name": "stdout",
     "output_type": "stream",
     "text": [
      "LabbeE[i][j]=LabbeW[(i+1)][j]:4 states - 14ms\r\n",
      " LabbeN[i][j]=LabbeS[i][(j+1)]:4 states - 7ms\r\n",
      "  (LabbeE[i][j]=LabbeW[(i+1)][j]&LabbeN[i][j]=LabbeS[i][(j+1)]):4 states - 0ms\r\n",
      "   (A i , j (LabbeE[i][j]=LabbeW[(i+1)][j]&LabbeN[i][j]=LabbeS[i][(j+1)])):1 states - 1ms\r\n",
      "Total computation time: 27ms.\r\n",
      "____\r\n",
      "TRUE\r\n",
      "\r\n"
     ]
    }
   ],
   "source": [
    "eval ValidTiling \"?msd_fibsq Ai,j LabbeE[i][j]=LabbeW[i+1][j] & LabbeN[i][j]=LabbeS[i][j+1]\":"
   ]
  },
  {
   "cell_type": "code",
   "execution_count": 49,
   "id": "7f7971a1",
   "metadata": {},
   "outputs": [
    {
     "name": "stdout",
     "output_type": "stream",
     "text": [
      "computed ~:1 states - 1ms\n",
      "(di+dj)>0:5 states - 6ms\n",
      " Labbe[i][j]=Labbe[(i+di)][(j+dj)]:1825 states - 2349ms\n",
      "  ~Labbe[i][j]=Labbe[(i+di)][(j+dj)]:1825 states - 544ms\n",
      "   (E i , j ~Labbe[i][j]=Labbe[(i+di)][(j+dj)]):5 states - 1249ms\n",
      "    ((di+dj)>0=>(E i , j ~Labbe[i][j]=Labbe[(i+di)][(j+dj)])):4 states - 1ms\n",
      "     (A di , dj ((di+dj)>0=>(E i , j ~Labbe[i][j]=Labbe[(i+di)][(j+dj)]))):1 states - 0ms\n",
      "Total computation time: 4240ms.\n",
      "____\n",
      "TRUE\n",
      "\n"
     ]
    }
   ],
   "source": [
    "eval Aperiodic \"?msd_fibsq Adi,dj di+dj>0 => Ei,j ~Labbe[i][j]=Labbe[i+di][j+dj]\":"
   ]
  }
 ],
 "metadata": {
  "celltoolbar": "Diaporama",
  "kernelspec": {
   "display_name": "Walnut",
   "language": "",
   "name": "data"
  },
  "language_info": {
   "file_extension": ".walnut",
   "language": "walnut",
   "mimetype": "text/x-walnut",
   "name": "walnutkernel"
  },
  "rise": {
   "autolaunch": true,
   "chalkboard": {
    "readOnly": false
   },
   "enable_chalkboard": true,
   "reveal_shortcuts": {
    "chalkboard": {
     "colorNext": "s",
     "colorPrev": "q",
     "toggleChalkboard": "a",
     "toggleNotesCanvas": "z"
    }
   },
   "scroll": true,
   "theme": "white"
  }
 },
 "nbformat": 4,
 "nbformat_minor": 5
}
